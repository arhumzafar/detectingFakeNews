{
 "cells": [
  {
   "cell_type": "markdown",
   "metadata": {},
   "source": [
    "## Detecting Fake News\n",
    "#### Arhum Zafar - November 2020\n",
    "\n",
    "**This was written prior to the 2020 General Election*"
   ]
  },
  {
   "cell_type": "markdown",
   "metadata": {},
   "source": [
    "Table of Contents"
   ]
  },
  {
   "cell_type": "markdown",
   "metadata": {},
   "source": [
    "### Introduction"
   ]
  },
  {
   "cell_type": "markdown",
   "metadata": {},
   "source": [
    "It's obvious that the internet has made accessing information easy to all around the world. Unfortunately, the internet has slowly turned into a hub of misinformation, or what many would call, \"fake news\". The problem arises when misinformation falls into the minds of wrong people, who are then convinced or persuaded to act out on the false narratives that they've heard; this can be proven by the fact of how many riots and killings have taken place in the past year. \n",
    "<br>\n",
    "<br>\n",
    "Fake news can even sway people's opinions and affiliations - a fact that political parties have used (and still use) to make people vote in their favour. This enhances the need to find the ability to seperate what's real from what's not. For many, doing such a thing is a difficult task -- in this notebook, I use machine learning, specifically Natural Language Processing (NLP) to classify what's fake apart from the real news.\n",
    "\n",
    "<br>\n",
    "<br>\n",
    "The dataset used exists as a train and test file. For obvious reasons, we'll holdout the test set until the model is ready to go."
   ]
  },
  {
   "cell_type": "markdown",
   "metadata": {},
   "source": []
  },
  {
   "cell_type": "markdown",
   "metadata": {},
   "source": [
    "#### Import Libraries"
   ]
  },
  {
   "cell_type": "code",
   "execution_count": 1,
   "metadata": {},
   "outputs": [],
   "source": [
    "import pandas as pd\n",
    "import numpy as np\n",
    "import seaborn as sns\n",
    "import matplotlib.pyplot as plt\n",
    "%matplotlib inline\n",
    "from sklearn import metrics\n",
    "import itertools\n",
    "import nltk\n",
    "from sklearn.model_selection import train_test_split\n",
    "from sklearn.metrics import plot_confusion_matrix"
   ]
  },
  {
   "cell_type": "markdown",
   "metadata": {},
   "source": [
    "#### Load Dataset"
   ]
  },
  {
   "cell_type": "code",
   "execution_count": 17,
   "metadata": {},
   "outputs": [
    {
     "data": {
      "text/html": [
       "<div>\n",
       "<style scoped>\n",
       "    .dataframe tbody tr th:only-of-type {\n",
       "        vertical-align: middle;\n",
       "    }\n",
       "\n",
       "    .dataframe tbody tr th {\n",
       "        vertical-align: top;\n",
       "    }\n",
       "\n",
       "    .dataframe thead th {\n",
       "        text-align: right;\n",
       "    }\n",
       "</style>\n",
       "<table border=\"1\" class=\"dataframe\">\n",
       "  <thead>\n",
       "    <tr style=\"text-align: right;\">\n",
       "      <th></th>\n",
       "      <th>index</th>\n",
       "      <th>title</th>\n",
       "      <th>text</th>\n",
       "      <th>subject</th>\n",
       "      <th>date</th>\n",
       "      <th>class</th>\n",
       "      <th>Unnamed: 6</th>\n",
       "    </tr>\n",
       "  </thead>\n",
       "  <tbody>\n",
       "    <tr>\n",
       "      <th>0</th>\n",
       "      <td>0</td>\n",
       "      <td>PRESIDENT TRUMP Explains New “America First” R...</td>\n",
       "      <td>That s what we re talking about! Another campa...</td>\n",
       "      <td>politics</td>\n",
       "      <td>Aug 2, 2017</td>\n",
       "      <td>Fake</td>\n",
       "      <td>NaN</td>\n",
       "    </tr>\n",
       "    <tr>\n",
       "      <th>1</th>\n",
       "      <td>1</td>\n",
       "      <td>TERMINALLY ILL FORMER MISS WI: “Until my last ...</td>\n",
       "      <td>How is it that Sean Hannity is the only media ...</td>\n",
       "      <td>politics</td>\n",
       "      <td>Oct 4, 2016</td>\n",
       "      <td>Fake</td>\n",
       "      <td>NaN</td>\n",
       "    </tr>\n",
       "    <tr>\n",
       "      <th>2</th>\n",
       "      <td>2</td>\n",
       "      <td>Cruz Humiliated By Moderator After Lie About ...</td>\n",
       "      <td>Almost immediately after learning that longtim...</td>\n",
       "      <td>News</td>\n",
       "      <td>February 13, 2016</td>\n",
       "      <td>Fake</td>\n",
       "      <td>NaN</td>\n",
       "    </tr>\n",
       "    <tr>\n",
       "      <th>3</th>\n",
       "      <td>3</td>\n",
       "      <td>Russia revels in Trump victory, looks to sanct...</td>\n",
       "      <td>MOSCOW (Reuters) - For all their mutual praise...</td>\n",
       "      <td>politicsNews</td>\n",
       "      <td>November 9, 2016</td>\n",
       "      <td>Real</td>\n",
       "      <td>NaN</td>\n",
       "    </tr>\n",
       "    <tr>\n",
       "      <th>4</th>\n",
       "      <td>4</td>\n",
       "      <td>Trump's bid to open U.S. monuments to developm...</td>\n",
       "      <td>WASHINGTON (Reuters) - The Trump administratio...</td>\n",
       "      <td>politicsNews</td>\n",
       "      <td>May 26, 2017</td>\n",
       "      <td>Real</td>\n",
       "      <td>NaN</td>\n",
       "    </tr>\n",
       "    <tr>\n",
       "      <th>5</th>\n",
       "      <td>5</td>\n",
       "      <td>UNREAL! HERE’S WHY ICE RELEASED BUT DIDN’T DEP...</td>\n",
       "      <td>THANK GOODNESS FOR THE CENTER FOR IMMIGRATION ...</td>\n",
       "      <td>Government News</td>\n",
       "      <td>Apr 28, 2016</td>\n",
       "      <td>Fake</td>\n",
       "      <td>NaN</td>\n",
       "    </tr>\n",
       "    <tr>\n",
       "      <th>6</th>\n",
       "      <td>6</td>\n",
       "      <td>CONSEQUENCES OF LIBERAL TOLERANCE: He Had An I...</td>\n",
       "      <td>Terrified concert goers fled an Ariana Grande ...</td>\n",
       "      <td>politics</td>\n",
       "      <td>May 25, 2017</td>\n",
       "      <td>Fake</td>\n",
       "      <td>NaN</td>\n",
       "    </tr>\n",
       "    <tr>\n",
       "      <th>7</th>\n",
       "      <td>7</td>\n",
       "      <td>U.S. NEWS and WORLD REPORT Publishes List Of T...</td>\n",
       "      <td>More than 21,000 people from all regions of th...</td>\n",
       "      <td>politics</td>\n",
       "      <td>Jul 13, 2017</td>\n",
       "      <td>Fake</td>\n",
       "      <td>NaN</td>\n",
       "    </tr>\n",
       "    <tr>\n",
       "      <th>8</th>\n",
       "      <td>8</td>\n",
       "      <td>Trump administration's NAFTA demands make sens...</td>\n",
       "      <td>DETROIT (Reuters) - The list of priorities U.S...</td>\n",
       "      <td>politicsNews</td>\n",
       "      <td>July 20, 2017</td>\n",
       "      <td>Real</td>\n",
       "      <td>NaN</td>\n",
       "    </tr>\n",
       "    <tr>\n",
       "      <th>9</th>\n",
       "      <td>9</td>\n",
       "      <td>Turks flock to social media for gold trader sa...</td>\n",
       "      <td>ANKARA (Reuters) - Allegations of wrongdoing b...</td>\n",
       "      <td>worldnews</td>\n",
       "      <td>December 1, 2017</td>\n",
       "      <td>Real</td>\n",
       "      <td>NaN</td>\n",
       "    </tr>\n",
       "  </tbody>\n",
       "</table>\n",
       "</div>"
      ],
      "text/plain": [
       "   index                                              title  \\\n",
       "0      0  PRESIDENT TRUMP Explains New “America First” R...   \n",
       "1      1  TERMINALLY ILL FORMER MISS WI: “Until my last ...   \n",
       "2      2   Cruz Humiliated By Moderator After Lie About ...   \n",
       "3      3  Russia revels in Trump victory, looks to sanct...   \n",
       "4      4  Trump's bid to open U.S. monuments to developm...   \n",
       "5      5  UNREAL! HERE’S WHY ICE RELEASED BUT DIDN’T DEP...   \n",
       "6      6  CONSEQUENCES OF LIBERAL TOLERANCE: He Had An I...   \n",
       "7      7  U.S. NEWS and WORLD REPORT Publishes List Of T...   \n",
       "8      8  Trump administration's NAFTA demands make sens...   \n",
       "9      9  Turks flock to social media for gold trader sa...   \n",
       "\n",
       "                                                text          subject  \\\n",
       "0  That s what we re talking about! Another campa...         politics   \n",
       "1  How is it that Sean Hannity is the only media ...         politics   \n",
       "2  Almost immediately after learning that longtim...             News   \n",
       "3  MOSCOW (Reuters) - For all their mutual praise...     politicsNews   \n",
       "4  WASHINGTON (Reuters) - The Trump administratio...     politicsNews   \n",
       "5  THANK GOODNESS FOR THE CENTER FOR IMMIGRATION ...  Government News   \n",
       "6  Terrified concert goers fled an Ariana Grande ...         politics   \n",
       "7  More than 21,000 people from all regions of th...         politics   \n",
       "8  DETROIT (Reuters) - The list of priorities U.S...     politicsNews   \n",
       "9  ANKARA (Reuters) - Allegations of wrongdoing b...        worldnews   \n",
       "\n",
       "                date class Unnamed: 6  \n",
       "0        Aug 2, 2017  Fake        NaN  \n",
       "1        Oct 4, 2016  Fake        NaN  \n",
       "2  February 13, 2016  Fake        NaN  \n",
       "3  November 9, 2016   Real        NaN  \n",
       "4      May 26, 2017   Real        NaN  \n",
       "5       Apr 28, 2016  Fake        NaN  \n",
       "6       May 25, 2017  Fake        NaN  \n",
       "7       Jul 13, 2017  Fake        NaN  \n",
       "8     July 20, 2017   Real        NaN  \n",
       "9  December 1, 2017   Real        NaN  "
      ]
     },
     "execution_count": 17,
     "metadata": {},
     "output_type": "execute_result"
    }
   ],
   "source": [
    "data = pd.read_csv(\"train.csv\")\n",
    "data.head(10)\n",
    "#data.shape"
   ]
  },
  {
   "cell_type": "code",
   "execution_count": 18,
   "metadata": {},
   "outputs": [
    {
     "data": {
      "text/plain": [
       "index             0\n",
       "title             0\n",
       "text              0\n",
       "subject           0\n",
       "date              0\n",
       "class             0\n",
       "Unnamed: 6    39999\n",
       "dtype: int64"
      ]
     },
     "execution_count": 18,
     "metadata": {},
     "output_type": "execute_result"
    }
   ],
   "source": [
    "# Check for nulls\n",
    "data.isnull().sum()"
   ]
  },
  {
   "cell_type": "code",
   "execution_count": 19,
   "metadata": {},
   "outputs": [
    {
     "data": {
      "text/plain": [
       "Fake                20886\n",
       "Real                19113\n",
       "February 5, 2017        1\n",
       "Name: class, dtype: int64"
      ]
     },
     "execution_count": 19,
     "metadata": {},
     "output_type": "execute_result"
    }
   ],
   "source": [
    "# Is out dataset imbalanced?\n",
    "data[\"class\"].value_counts()"
   ]
  },
  {
   "cell_type": "markdown",
   "metadata": {},
   "source": [
    "So far, I can point out two things:\n",
    "<br>\n",
    "1) Our dataset is somewhat balanced, with the # of \"real\" and \"fake\" classes almost being equal. <br>\n",
    "2) There is a feature titled \"February 5, 2017\", which is different than the real and fake classes that we are looking for. I can remove this point, or shift it into the next column -- which is shown below."
   ]
  },
  {
   "cell_type": "code",
   "execution_count": 20,
   "metadata": {},
   "outputs": [
    {
     "data": {
      "text/html": [
       "<div>\n",
       "<style scoped>\n",
       "    .dataframe tbody tr th:only-of-type {\n",
       "        vertical-align: middle;\n",
       "    }\n",
       "\n",
       "    .dataframe tbody tr th {\n",
       "        vertical-align: top;\n",
       "    }\n",
       "\n",
       "    .dataframe thead th {\n",
       "        text-align: right;\n",
       "    }\n",
       "</style>\n",
       "<table border=\"1\" class=\"dataframe\">\n",
       "  <thead>\n",
       "    <tr style=\"text-align: right;\">\n",
       "      <th></th>\n",
       "      <th>index</th>\n",
       "      <th>title</th>\n",
       "      <th>text</th>\n",
       "      <th>subject</th>\n",
       "      <th>date</th>\n",
       "      <th>class</th>\n",
       "      <th>Unnamed: 6</th>\n",
       "    </tr>\n",
       "  </thead>\n",
       "  <tbody>\n",
       "    <tr>\n",
       "      <th>504</th>\n",
       "      <td>504</td>\n",
       "      <td>Even Mitch McConnell Is Beginning To Turn On ...</td>\n",
       "      <td>Is Impeachment Next? (VIDEO)</td>\n",
       "      <td>Donald Trump s Muslim ban is proving to be a l...</td>\n",
       "      <td>News</td>\n",
       "      <td>February 5, 2017</td>\n",
       "      <td>Fake</td>\n",
       "    </tr>\n",
       "  </tbody>\n",
       "</table>\n",
       "</div>"
      ],
      "text/plain": [
       "     index                                              title  \\\n",
       "504    504   Even Mitch McConnell Is Beginning To Turn On ...   \n",
       "\n",
       "                              text  \\\n",
       "504   Is Impeachment Next? (VIDEO)   \n",
       "\n",
       "                                               subject  date  \\\n",
       "504  Donald Trump s Muslim ban is proving to be a l...  News   \n",
       "\n",
       "                class Unnamed: 6  \n",
       "504  February 5, 2017       Fake  "
      ]
     },
     "execution_count": 20,
     "metadata": {},
     "output_type": "execute_result"
    }
   ],
   "source": [
    "data[data['class'] == \"February 5, 2017\"]"
   ]
  },
  {
   "cell_type": "code",
   "execution_count": 21,
   "metadata": {},
   "outputs": [],
   "source": [
    "# take above index and shift column values to corresponding places\n",
    "\n",
    "data.iloc[504, 2] = data.iloc[504, 3]\n",
    "data.iloc[504, 3] = data.iloc[504, 4]\n",
    "data.iloc[504, 4] = data.iloc[504, 5]\n",
    "data.iloc[504, 5] = data.iloc[504, 6]\n",
    "data.iloc[504, 6] = np.nan"
   ]
  },
  {
   "cell_type": "code",
   "execution_count": 22,
   "metadata": {},
   "outputs": [
    {
     "data": {
      "text/html": [
       "<div>\n",
       "<style scoped>\n",
       "    .dataframe tbody tr th:only-of-type {\n",
       "        vertical-align: middle;\n",
       "    }\n",
       "\n",
       "    .dataframe tbody tr th {\n",
       "        vertical-align: top;\n",
       "    }\n",
       "\n",
       "    .dataframe thead th {\n",
       "        text-align: right;\n",
       "    }\n",
       "</style>\n",
       "<table border=\"1\" class=\"dataframe\">\n",
       "  <thead>\n",
       "    <tr style=\"text-align: right;\">\n",
       "      <th></th>\n",
       "      <th>index</th>\n",
       "      <th>title</th>\n",
       "      <th>text</th>\n",
       "      <th>subject</th>\n",
       "      <th>date</th>\n",
       "      <th>class</th>\n",
       "      <th>Unnamed: 6</th>\n",
       "    </tr>\n",
       "  </thead>\n",
       "  <tbody>\n",
       "    <tr>\n",
       "      <th>504</th>\n",
       "      <td>504</td>\n",
       "      <td>Even Mitch McConnell Is Beginning To Turn On ...</td>\n",
       "      <td>Donald Trump s Muslim ban is proving to be a l...</td>\n",
       "      <td>News</td>\n",
       "      <td>February 5, 2017</td>\n",
       "      <td>Fake</td>\n",
       "      <td>NaN</td>\n",
       "    </tr>\n",
       "  </tbody>\n",
       "</table>\n",
       "</div>"
      ],
      "text/plain": [
       "     index                                              title  \\\n",
       "504    504   Even Mitch McConnell Is Beginning To Turn On ...   \n",
       "\n",
       "                                                  text subject  \\\n",
       "504  Donald Trump s Muslim ban is proving to be a l...    News   \n",
       "\n",
       "                 date class Unnamed: 6  \n",
       "504  February 5, 2017  Fake        NaN  "
      ]
     },
     "execution_count": 22,
     "metadata": {},
     "output_type": "execute_result"
    }
   ],
   "source": [
    "data.iloc[[504]]"
   ]
  },
  {
   "cell_type": "markdown",
   "metadata": {},
   "source": [
    "Now that **index** and **Unnamed: 6** have become redundant, I'll go ahead and delete them."
   ]
  },
  {
   "cell_type": "code",
   "execution_count": 23,
   "metadata": {},
   "outputs": [
    {
     "data": {
      "text/html": [
       "<div>\n",
       "<style scoped>\n",
       "    .dataframe tbody tr th:only-of-type {\n",
       "        vertical-align: middle;\n",
       "    }\n",
       "\n",
       "    .dataframe tbody tr th {\n",
       "        vertical-align: top;\n",
       "    }\n",
       "\n",
       "    .dataframe thead th {\n",
       "        text-align: right;\n",
       "    }\n",
       "</style>\n",
       "<table border=\"1\" class=\"dataframe\">\n",
       "  <thead>\n",
       "    <tr style=\"text-align: right;\">\n",
       "      <th></th>\n",
       "      <th>title</th>\n",
       "      <th>text</th>\n",
       "      <th>subject</th>\n",
       "      <th>date</th>\n",
       "      <th>class</th>\n",
       "    </tr>\n",
       "  </thead>\n",
       "  <tbody>\n",
       "    <tr>\n",
       "      <th>0</th>\n",
       "      <td>PRESIDENT TRUMP Explains New “America First” R...</td>\n",
       "      <td>That s what we re talking about! Another campa...</td>\n",
       "      <td>politics</td>\n",
       "      <td>Aug 2, 2017</td>\n",
       "      <td>Fake</td>\n",
       "    </tr>\n",
       "    <tr>\n",
       "      <th>1</th>\n",
       "      <td>TERMINALLY ILL FORMER MISS WI: “Until my last ...</td>\n",
       "      <td>How is it that Sean Hannity is the only media ...</td>\n",
       "      <td>politics</td>\n",
       "      <td>Oct 4, 2016</td>\n",
       "      <td>Fake</td>\n",
       "    </tr>\n",
       "    <tr>\n",
       "      <th>2</th>\n",
       "      <td>Cruz Humiliated By Moderator After Lie About ...</td>\n",
       "      <td>Almost immediately after learning that longtim...</td>\n",
       "      <td>News</td>\n",
       "      <td>February 13, 2016</td>\n",
       "      <td>Fake</td>\n",
       "    </tr>\n",
       "  </tbody>\n",
       "</table>\n",
       "</div>"
      ],
      "text/plain": [
       "                                               title  \\\n",
       "0  PRESIDENT TRUMP Explains New “America First” R...   \n",
       "1  TERMINALLY ILL FORMER MISS WI: “Until my last ...   \n",
       "2   Cruz Humiliated By Moderator After Lie About ...   \n",
       "\n",
       "                                                text   subject  \\\n",
       "0  That s what we re talking about! Another campa...  politics   \n",
       "1  How is it that Sean Hannity is the only media ...  politics   \n",
       "2  Almost immediately after learning that longtim...      News   \n",
       "\n",
       "                date class  \n",
       "0        Aug 2, 2017  Fake  \n",
       "1        Oct 4, 2016  Fake  \n",
       "2  February 13, 2016  Fake  "
      ]
     },
     "execution_count": 23,
     "metadata": {},
     "output_type": "execute_result"
    }
   ],
   "source": [
    "data.drop([\"index\", \"Unnamed: 6\"], axis = 1, inplace = True)\n",
    "data.head(3)"
   ]
  },
  {
   "cell_type": "markdown",
   "metadata": {},
   "source": [
    "### Data\n",
    "\n",
    "Now that the dataframe has been cleaned up, let's take a quick look at it."
   ]
  },
  {
   "cell_type": "code",
   "execution_count": 26,
   "metadata": {},
   "outputs": [
    {
     "data": {
      "text/html": [
       "<div>\n",
       "<style scoped>\n",
       "    .dataframe tbody tr th:only-of-type {\n",
       "        vertical-align: middle;\n",
       "    }\n",
       "\n",
       "    .dataframe tbody tr th {\n",
       "        vertical-align: top;\n",
       "    }\n",
       "\n",
       "    .dataframe thead th {\n",
       "        text-align: right;\n",
       "    }\n",
       "</style>\n",
       "<table border=\"1\" class=\"dataframe\">\n",
       "  <thead>\n",
       "    <tr style=\"text-align: right;\">\n",
       "      <th></th>\n",
       "      <th>count</th>\n",
       "      <th>unique</th>\n",
       "      <th>top</th>\n",
       "      <th>freq</th>\n",
       "    </tr>\n",
       "  </thead>\n",
       "  <tbody>\n",
       "    <tr>\n",
       "      <th>title</th>\n",
       "      <td>40000</td>\n",
       "      <td>35075</td>\n",
       "      <td>Factbox: Trump fills top jobs for his administ...</td>\n",
       "      <td>12</td>\n",
       "    </tr>\n",
       "    <tr>\n",
       "      <th>text</th>\n",
       "      <td>40000</td>\n",
       "      <td>34965</td>\n",
       "      <td></td>\n",
       "      <td>552</td>\n",
       "    </tr>\n",
       "    <tr>\n",
       "      <th>subject</th>\n",
       "      <td>40000</td>\n",
       "      <td>8</td>\n",
       "      <td>politicsNews</td>\n",
       "      <td>10075</td>\n",
       "    </tr>\n",
       "    <tr>\n",
       "      <th>date</th>\n",
       "      <td>40000</td>\n",
       "      <td>2388</td>\n",
       "      <td>December 20, 2017</td>\n",
       "      <td>161</td>\n",
       "    </tr>\n",
       "    <tr>\n",
       "      <th>class</th>\n",
       "      <td>40000</td>\n",
       "      <td>2</td>\n",
       "      <td>Fake</td>\n",
       "      <td>20887</td>\n",
       "    </tr>\n",
       "  </tbody>\n",
       "</table>\n",
       "</div>"
      ],
      "text/plain": [
       "         count unique                                                top  \\\n",
       "title    40000  35075  Factbox: Trump fills top jobs for his administ...   \n",
       "text     40000  34965                                                      \n",
       "subject  40000      8                                       politicsNews   \n",
       "date     40000   2388                                 December 20, 2017    \n",
       "class    40000      2                                               Fake   \n",
       "\n",
       "          freq  \n",
       "title       12  \n",
       "text       552  \n",
       "subject  10075  \n",
       "date       161  \n",
       "class    20887  "
      ]
     },
     "execution_count": 26,
     "metadata": {},
     "output_type": "execute_result"
    }
   ],
   "source": [
    "data.describe(include = 'all').T"
   ]
  },
  {
   "cell_type": "markdown",
   "metadata": {},
   "source": [
    "By looking above, there are 40,000 titles and texts -- with 35,075 and 34,965 unique ones, respectively. Let's now focus on removing the non-unique ones. There are more *non-unique* entries than there are for title."
   ]
  },
  {
   "cell_type": "code",
   "execution_count": 28,
   "metadata": {},
   "outputs": [
    {
     "data": {
      "text/html": [
       "<div>\n",
       "<style scoped>\n",
       "    .dataframe tbody tr th:only-of-type {\n",
       "        vertical-align: middle;\n",
       "    }\n",
       "\n",
       "    .dataframe tbody tr th {\n",
       "        vertical-align: top;\n",
       "    }\n",
       "\n",
       "    .dataframe thead th {\n",
       "        text-align: right;\n",
       "    }\n",
       "</style>\n",
       "<table border=\"1\" class=\"dataframe\">\n",
       "  <thead>\n",
       "    <tr style=\"text-align: right;\">\n",
       "      <th></th>\n",
       "      <th>count</th>\n",
       "      <th>unique</th>\n",
       "      <th>top</th>\n",
       "      <th>freq</th>\n",
       "    </tr>\n",
       "  </thead>\n",
       "  <tbody>\n",
       "    <tr>\n",
       "      <th>title</th>\n",
       "      <td>34965</td>\n",
       "      <td>34653</td>\n",
       "      <td>Factbox: Trump fills top jobs for his administ...</td>\n",
       "      <td>12</td>\n",
       "    </tr>\n",
       "    <tr>\n",
       "      <th>text</th>\n",
       "      <td>34965</td>\n",
       "      <td>34965</td>\n",
       "      <td>WASHINGTON (Reuters) - Congressional intellige...</td>\n",
       "      <td>1</td>\n",
       "    </tr>\n",
       "    <tr>\n",
       "      <th>subject</th>\n",
       "      <td>34965</td>\n",
       "      <td>8</td>\n",
       "      <td>politicsNews</td>\n",
       "      <td>10023</td>\n",
       "    </tr>\n",
       "    <tr>\n",
       "      <th>date</th>\n",
       "      <td>34965</td>\n",
       "      <td>2388</td>\n",
       "      <td>December 6, 2017</td>\n",
       "      <td>149</td>\n",
       "    </tr>\n",
       "    <tr>\n",
       "      <th>class</th>\n",
       "      <td>34965</td>\n",
       "      <td>2</td>\n",
       "      <td>Real</td>\n",
       "      <td>18936</td>\n",
       "    </tr>\n",
       "  </tbody>\n",
       "</table>\n",
       "</div>"
      ],
      "text/plain": [
       "         count unique                                                top  \\\n",
       "title    34965  34653  Factbox: Trump fills top jobs for his administ...   \n",
       "text     34965  34965  WASHINGTON (Reuters) - Congressional intellige...   \n",
       "subject  34965      8                                       politicsNews   \n",
       "date     34965   2388                                  December 6, 2017    \n",
       "class    34965      2                                               Real   \n",
       "\n",
       "          freq  \n",
       "title       12  \n",
       "text         1  \n",
       "subject  10023  \n",
       "date       149  \n",
       "class    18936  "
      ]
     },
     "execution_count": 28,
     "metadata": {},
     "output_type": "execute_result"
    }
   ],
   "source": [
    "data.drop_duplicates(subset = ['text'], inplace=True)\n",
    "data.reset_index(drop = True, inplace = True)\n",
    "data.describe(include = 'all').T"
   ]
  },
  {
   "cell_type": "markdown",
   "metadata": {},
   "source": [
    "Now, there are 34,653 unique texts. This will suffice for analysis.\n",
    "<br>\n",
    "<br>\n",
    "Let's look at our data."
   ]
  },
  {
   "cell_type": "code",
   "execution_count": 29,
   "metadata": {},
   "outputs": [
    {
     "data": {
      "text/plain": [
       "<matplotlib.axes._subplots.AxesSubplot at 0x7f99326a5ca0>"
      ]
     },
     "execution_count": 29,
     "metadata": {},
     "output_type": "execute_result"
    },
    {
     "data": {
      "image/png": "[encoded data removed]",
      "text/plain": [
       "<Figure size 504x504 with 1 Axes>"
      ]
     },
     "metadata": {},
     "output_type": "display_data"
    }
   ],
   "source": [
    "data['subject'].value_counts().plot.pie(figsize = (7,7))"
   ]
  },
  {
   "cell_type": "markdown",
   "metadata": {},
   "source": [
    "### What are Stopwords?"
   ]
  },
  {
   "cell_type": "code",
   "execution_count": null,
   "metadata": {},
   "outputs": [],
   "source": []
  }
 ],
 "metadata": {
  "kernelspec": {
   "display_name": "Python 3",
   "language": "python",
   "name": "python3"
  },
  "language_info": {
   "codemirror_mode": {
    "name": "ipython",
    "version": 3
   },
   "file_extension": ".py",
   "mimetype": "text/x-python",
   "name": "python",
   "nbconvert_exporter": "python",
   "pygments_lexer": "ipython3",
   "version": "3.8.2"
  }
 },
 "nbformat": 4,
 "nbformat_minor": 4
}
